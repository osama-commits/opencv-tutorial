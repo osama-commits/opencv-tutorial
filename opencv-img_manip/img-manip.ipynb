{
 "cells": [
  {
   "cell_type": "code",
   "execution_count": 2,
   "id": "c078b5ac",
   "metadata": {},
   "outputs": [],
   "source": [
    "import cv2"
   ]
  },
  {
   "cell_type": "code",
   "execution_count": 3,
   "id": "bb329630",
   "metadata": {},
   "outputs": [
    {
     "name": "stdout",
     "output_type": "stream",
     "text": [
      "(3000, 2000, 3)\n"
     ]
    }
   ],
   "source": [
    "# to print the shape(height, width, values representing each pixel)\n",
    "img = cv2.imread(\"C:/Users/18-0070/Desktop/opencv-tutorial/opencv-intro/burger.jpg\", 1)\n",
    "\n",
    "print(img.shape)\n",
    "# opencv represents colors as bgr"
   ]
  },
  {
   "cell_type": "code",
   "execution_count": 12,
   "id": "f6a3a1bf",
   "metadata": {},
   "outputs": [
    {
     "name": "stdout",
     "output_type": "stream",
     "text": [
      "[[  2  23 168]\n",
      " [  1  22 167]\n",
      " [  1  23 165]\n",
      " ...\n",
      " [106  80  86]\n",
      " [ 97  80  89]\n",
      " [ 73  60  68]]\n",
      "-------------------------------------------------------\n",
      "[  2  24 166]\n"
     ]
    }
   ],
   "source": [
    "# to print the pixel values use\n",
    "img = cv2.imread(\"C:/Users/18-0070/Desktop/opencv-tutorial/opencv-intro/burger.jpg\", 1)\n",
    "\n",
    "# pixel values of first row\n",
    "print(img[0])\n",
    "\n",
    "print(\"-------------------------------------------------------\")\n",
    "\n",
    "# pixel values of 2nd row 2nd column\n",
    "print(img[1][1])\n"
   ]
  },
  {
   "cell_type": "markdown",
   "id": "beb75b1d",
   "metadata": {},
   "source": [
    "Changing pixel values"
   ]
  },
  {
   "cell_type": "code",
   "execution_count": 19,
   "id": "478c6e3b",
   "metadata": {},
   "outputs": [],
   "source": [
    "img = cv2.imread(\"C:/Users/18-0070/Desktop/opencv-tutorial/opencv-intro/burger.jpg\", 1)\n",
    "\n",
    "img[300:570, 450:1050]=[0,0,255]\n",
    "cv2.imshow(\"Image\", img)\n",
    "cv2.waitKey(0)\n",
    "cv2.destroyAllWindows()"
   ]
  },
  {
   "cell_type": "markdown",
   "id": "04dd1b29",
   "metadata": {},
   "source": [
    "copying and pasting parts of the image"
   ]
  },
  {
   "cell_type": "code",
   "execution_count": 26,
   "id": "74026a5a",
   "metadata": {},
   "outputs": [],
   "source": [
    "img = cv2.imread(\"C:/Users/18-0070/Desktop/opencv-tutorial/opencv-intro/burger.jpg\", 1)\n",
    "\n",
    "copy_dim= img[600:900 , 350:1050]\n",
    "\n",
    "img[100:400, 600:1300 ]= copy_dim\n",
    "\n",
    "cv2.imshow(\"image\", img)\n",
    "\n",
    "cv2.waitKey(0)\n",
    "cv2.destroyAllWindows()"
   ]
  }
 ],
 "metadata": {
  "kernelspec": {
   "display_name": "Python 3",
   "language": "python",
   "name": "python3"
  },
  "language_info": {
   "codemirror_mode": {
    "name": "ipython",
    "version": 3
   },
   "file_extension": ".py",
   "mimetype": "text/x-python",
   "name": "python",
   "nbconvert_exporter": "python",
   "pygments_lexer": "ipython3",
   "version": "3.8.8"
  }
 },
 "nbformat": 4,
 "nbformat_minor": 5
}
