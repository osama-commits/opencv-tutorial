{
 "cells": [
  {
   "cell_type": "code",
   "execution_count": 6,
   "id": "d927689a",
   "metadata": {},
   "outputs": [],
   "source": [
    "%matplotlib inline\n",
    "import cv2\n",
    "from matplotlib import pyplot as plt"
   ]
  },
  {
   "cell_type": "markdown",
   "id": "0624ad46",
   "metadata": {},
   "source": [
    "Reading an image"
   ]
  },
  {
   "cell_type": "code",
   "execution_count": 22,
   "id": "ce761ef4",
   "metadata": {},
   "outputs": [],
   "source": [
    "# read an image\n",
    "img = cv2.imread(\"C:/Users/18-0070/Desktop/opencv-tutorial/burger.jpg\", 1)\n",
    "type(img)\n",
    "# -1 means transparency will be neglected, 0 means grayscale, 1 means as it is\n",
    "\n",
    "# load an image\n",
    "cv2.imshow('image',img)\n",
    "\n",
    "\n",
    "# to wait for some time before exiting the program\n",
    "cv2.waitKey(0)\n",
    "\n",
    "# destroy all windows\n",
    "cv2.destroyAllWindows()\n",
    "\n"
   ]
  },
  {
   "cell_type": "markdown",
   "id": "a2b1a85b",
   "metadata": {},
   "source": [
    "Resizing an image"
   ]
  },
  {
   "cell_type": "code",
   "execution_count": 25,
   "id": "65c3d37b",
   "metadata": {},
   "outputs": [],
   "source": [
    "img = cv2.imread(\"C:/Users/18-0070/Desktop/opencv-tutorial/burger.jpg\", 1)\n",
    "\n",
    "# resize an image\n",
    "# img = cv2.resize(img, (400, 400) )\n",
    "\n",
    "# or\n",
    "\n",
    "img = cv2.resize(img, (0,0), fx=0.5, fy=0.5)\n",
    "# will reduce the image size by 50%\n",
    "\n",
    "# load an image\n",
    "cv2.imshow('image',img)\n",
    "\n",
    "\n",
    "# to wait for some time before exiting the program\n",
    "cv2.waitKey(0)\n",
    "\n",
    "# destroy all windows\n",
    "cv2.destroyAllWindows()\n"
   ]
  },
  {
   "cell_type": "markdown",
   "id": "a1051e4a",
   "metadata": {},
   "source": [
    "Rotating an image"
   ]
  },
  {
   "cell_type": "code",
   "execution_count": 26,
   "id": "02d5aaa1",
   "metadata": {},
   "outputs": [],
   "source": [
    "img = cv2.imread(\"C:/Users/18-0070/Desktop/opencv-tutorial/burger.jpg\", 1)\n",
    "\n",
    "\n",
    "# rotate an image\n",
    "img = cv2.rotate(img, cv2.cv2.ROTATE_90_CLOCKWISE)\n",
    "\n",
    "# load an image\n",
    "cv2.imshow('image',img)\n",
    "\n",
    "\n",
    "# to wait for some time before exiting the program\n",
    "cv2.waitKey(0)\n",
    "\n",
    "# destroy all windows\n",
    "cv2.destroyAllWindows()"
   ]
  },
  {
   "cell_type": "markdown",
   "id": "521e810d",
   "metadata": {},
   "source": [
    "Writing an image to disk"
   ]
  },
  {
   "cell_type": "code",
   "execution_count": 27,
   "id": "6e5e1686",
   "metadata": {},
   "outputs": [],
   "source": [
    "img = cv2.imread(\"C:/Users/18-0070/Desktop/opencv-tutorial/burger.jpg\", 1)\n",
    "\n",
    "\n",
    "# rotate an image\n",
    "img = cv2.rotate(img, cv2.cv2.ROTATE_90_CLOCKWISE)\n",
    "\n",
    "# write an image\n",
    "cv2.imwrite(\"C:/Users/18-0070/Desktop/opencv-tutorial/burger_90.jpg\", img)\n",
    "\n",
    "# load an image\n",
    "cv2.imshow('image',img)\n",
    "\n",
    "\n",
    "# to wait for some time before exiting the program\n",
    "cv2.waitKey(0)\n",
    "\n",
    "# destroy all windows\n",
    "cv2.destroyAllWindows()\n",
    "\n"
   ]
  }
 ],
 "metadata": {
  "kernelspec": {
   "display_name": "Python 3",
   "language": "python",
   "name": "python3"
  },
  "language_info": {
   "codemirror_mode": {
    "name": "ipython",
    "version": 3
   },
   "file_extension": ".py",
   "mimetype": "text/x-python",
   "name": "python",
   "nbconvert_exporter": "python",
   "pygments_lexer": "ipython3",
   "version": "3.8.8"
  }
 },
 "nbformat": 4,
 "nbformat_minor": 5
}
